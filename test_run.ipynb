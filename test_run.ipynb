{
 "cells": [
  {
   "cell_type": "code",
   "execution_count": 240,
   "metadata": {},
   "outputs": [],
   "source": [
    "from bs4 import BeautifulSoup\n",
    "import numpy as np\n",
    "import pandas as pd\n",
    "import requests\n",
    "# from pymongo import MongoClient\n",
    "# from pymongo.errors import DuplicateKeyError, CollectionInvalid\n",
    "import datetime as dt\n",
    "import requests\n",
    "import json\n",
    "import string\n",
    "from urllib.parse import urlparse"
   ]
  },
  {
   "cell_type": "code",
   "execution_count": 68,
   "metadata": {},
   "outputs": [],
   "source": [
    "all_deal_link = []\n",
    "for i in range(1,20):\n",
    "    all_deal_link.append('https://meh.com/forum/topics.json?page={0}&category=deals&sort=date-created'.format(i))"
   ]
  },
  {
   "cell_type": "code",
   "execution_count": 69,
   "metadata": {},
   "outputs": [],
   "source": [
    "double_url = []\n",
    "for link in all_deal_link:\n",
    "    response = requests.get(link)\n",
    "    raw_data = json.loads(response.text)\n",
    "    for x in raw_data:\n",
    "        double_url.append(x['text']['raw'])"
   ]
  },
  {
   "cell_type": "code",
   "execution_count": 95,
   "metadata": {},
   "outputs": [],
   "source": [
    "table = str.maketrans(dict.fromkeys(\"()\"))\n",
    "url = []\n",
    "for s in enumerate(double_url):\n",
    "    if ']' in s:\n",
    "        url.append(s.split(']')[1].translate(table))\n",
    "    else:\n",
    "        url.append(s)"
   ]
  },
  {
   "cell_type": "code",
   "execution_count": 106,
   "metadata": {},
   "outputs": [
    {
     "data": {
      "text/plain": [
       "'https://meh.com/deals/2-for-tuesday-power-precision-sous-vide-with-bonus-cooking-rack'"
      ]
     },
     "execution_count": 106,
     "metadata": {},
     "output_type": "execute_result"
    }
   ],
   "source": [
    "url[1]"
   ]
  },
  {
   "cell_type": "code",
   "execution_count": 100,
   "metadata": {},
   "outputs": [],
   "source": [
    "resp = requests.get(url[1])"
   ]
  },
  {
   "cell_type": "code",
   "execution_count": 105,
   "metadata": {},
   "outputs": [],
   "source": [
    "soup = BeautifulSoup(resp.content,'html.parser')"
   ]
  },
  {
   "cell_type": "code",
   "execution_count": 132,
   "metadata": {},
   "outputs": [],
   "source": [
    "item_features = soup.find_all(class_='features')"
   ]
  },
  {
   "cell_type": "code",
   "execution_count": 138,
   "metadata": {},
   "outputs": [
    {
     "data": {
      "text/plain": [
       "'Sous vide means cooking something slowly in a circulating warm water bath for maximum tenderness.\\nSounds French = fancy time!\\nThis one can attach to any pot (fancily).\\nIt uses a fancy digital time and temperature display so you always know what’s up.\\nAlso comes with a recipe book filled with fancy-ass foods to make and a cooking rack that’s gotta be FAF (fancy as fuck).\\nModel: 980136241, such a fancy model number, what with the lack of letters and all.'"
      ]
     },
     "execution_count": 138,
     "metadata": {},
     "output_type": "execute_result"
    }
   ],
   "source": [
    "item_features = soup.find(class_='features').find('ul').text.strip()"
   ]
  },
  {
   "cell_type": "code",
   "execution_count": 144,
   "metadata": {},
   "outputs": [],
   "source": [
    "spec_url = soup.find(class_='specs')['href']\n",
    "spec_resp = requests.get(spec_url)"
   ]
  },
  {
   "cell_type": "code",
   "execution_count": 145,
   "metadata": {},
   "outputs": [],
   "source": [
    "# save space to scrape off the item_specs"
   ]
  },
  {
   "cell_type": "code",
   "execution_count": null,
   "metadata": {},
   "outputs": [],
   "source": []
  },
  {
   "cell_type": "code",
   "execution_count": null,
   "metadata": {},
   "outputs": [],
   "source": []
  },
  {
   "cell_type": "code",
   "execution_count": null,
   "metadata": {},
   "outputs": [],
   "source": []
  },
  {
   "cell_type": "code",
   "execution_count": null,
   "metadata": {},
   "outputs": [],
   "source": []
  },
  {
   "cell_type": "code",
   "execution_count": null,
   "metadata": {},
   "outputs": [],
   "source": []
  },
  {
   "cell_type": "code",
   "execution_count": 148,
   "metadata": {},
   "outputs": [],
   "source": [
    "story = soup.find(class_='story').text.strip()"
   ]
  },
  {
   "cell_type": "code",
   "execution_count": 149,
   "metadata": {},
   "outputs": [
    {
     "data": {
      "text/plain": [
       "\"Everyone's A Winner\\nThey say variety is the spice of life, but switching up the spices themselves doesn’t make something entirely new. What’s better: trying an entirely new method of cooking. Take sous vide cooking, for example. Using a slow, rotating hot (but not boiling) water bath to cook your food (which itself is sealed inside a plastic bag) will allow for levels of tenderness heretofore unexperienced.\\nBut as with all things culinary, you should know what you’re getting yourself into. So, instead of spending two-grand on some state-of-the-art sous vide oven that you may or may not enjoy using, try one of these. It will work with any pot and is small enough to be stored easily, while also giving you a taste of what sous vide cooking has to offer.\\n…is what you can say to whoever you give the second one of of your two Power Precision Sous Vide Cookers to. The real truth is: by giving away one of these to a friend or family member you’re actually giving yourself a gift.\\nSous vide cooking is fun. It’s weird. It’s a lot different than most basic cooking methods. And because of that, there are tricks you’re bound to pick up along the way, little ways to improve your food’s flavor, or methods that maybe make it just that much easier.\\nStill, you’re bound to have some blind spots. Cooking is like having a problem to solve, the problem of how to get all these ingredients into a cohesive “meal.” As such, everyone’s going to come at it from a different angle. And knowing how another person approaches something might help you figure out the best way for you to do things. Thus, by giving your second Power Precision Sous Vide Cooker away to someone you know, you’re basically getting an assistant chef. Or maybe an IRL Youtube tutorial without the terrible five minute intro.\\nThen again, if you’re giving someone the gift of a sous vide cooker to receive the gift of advice for what you should use your sous vide cooker, you might involuntarily give them the gift of some advice about how they should use their sous vide cooker… which means, you’re only getting one gift while they get two.\\nDammit! We really wanted you to win this one!\""
      ]
     },
     "execution_count": 149,
     "metadata": {},
     "output_type": "execute_result"
    }
   ],
   "source": [
    "story"
   ]
  },
  {
   "cell_type": "code",
   "execution_count": 178,
   "metadata": {},
   "outputs": [],
   "source": [
    "visits = int(soup.find(class_='primary').find('strong').text.strip())"
   ]
  },
  {
   "cell_type": "code",
   "execution_count": 189,
   "metadata": {},
   "outputs": [],
   "source": [
    "phone_visit = float(soup.find(class_='secondary').find_all('strong')[0].text.strip('%'))/100"
   ]
  },
  {
   "cell_type": "code",
   "execution_count": 190,
   "metadata": {},
   "outputs": [
    {
     "data": {
      "text/plain": [
       "0.41"
      ]
     },
     "execution_count": 190,
     "metadata": {},
     "output_type": "execute_result"
    }
   ],
   "source": [
    "phone_visit"
   ]
  },
  {
   "cell_type": "code",
   "execution_count": 191,
   "metadata": {},
   "outputs": [],
   "source": [
    "tablet_visit = float(soup.find(class_='secondary').find_all('strong')[1].text.strip('%'))/100"
   ]
  },
  {
   "cell_type": "code",
   "execution_count": 192,
   "metadata": {},
   "outputs": [
    {
     "data": {
      "text/plain": [
       "0.05"
      ]
     },
     "execution_count": 192,
     "metadata": {},
     "output_type": "execute_result"
    }
   ],
   "source": [
    "tablet_visit"
   ]
  },
  {
   "cell_type": "code",
   "execution_count": 199,
   "metadata": {},
   "outputs": [],
   "source": [
    "mehs = int(soup.find(id='total-mehs').text)"
   ]
  },
  {
   "cell_type": "code",
   "execution_count": 200,
   "metadata": {},
   "outputs": [
    {
     "data": {
      "text/plain": [
       "4736"
      ]
     },
     "execution_count": 200,
     "metadata": {},
     "output_type": "execute_result"
    }
   ],
   "source": [
    "mehs"
   ]
  },
  {
   "cell_type": "code",
   "execution_count": 211,
   "metadata": {},
   "outputs": [],
   "source": [
    "type_meh = float(soup.find(id='referrals').find(class_='primary').find('strong').text.strip('%'))/100"
   ]
  },
  {
   "cell_type": "code",
   "execution_count": 212,
   "metadata": {},
   "outputs": [
    {
     "data": {
      "text/plain": [
       "0.93"
      ]
     },
     "execution_count": 212,
     "metadata": {},
     "output_type": "execute_result"
    }
   ],
   "source": [
    "type_meh"
   ]
  },
  {
   "cell_type": "code",
   "execution_count": 218,
   "metadata": {},
   "outputs": [],
   "source": [
    "num_referrals = len(referrals)"
   ]
  },
  {
   "cell_type": "code",
   "execution_count": 217,
   "metadata": {},
   "outputs": [],
   "source": [
    "referrals = soup.find_all(class_='referrer')"
   ]
  },
  {
   "cell_type": "code",
   "execution_count": 275,
   "metadata": {},
   "outputs": [],
   "source": [
    "ref_dict = {}\n",
    "for ref in referrals:\n",
    "    link = ref.find(class_='base')['href']\n",
    "    parsed_uri = urlparse(link)\n",
    "    web = parsed_uri.netloc.split('.')[-2]\n",
    "    ref_dict[web] = float(ref['data-percentage'])"
   ]
  },
  {
   "cell_type": "code",
   "execution_count": 276,
   "metadata": {},
   "outputs": [
    {
     "data": {
      "text/plain": [
       "{'clarkdeals': 0.20899313537932274,\n",
       " 'dealnews': 0.17362506631512953,\n",
       " 'facebook': 0.5465974309920744,\n",
       " 'reddit': 0.49033004838994926,\n",
       " 'twitter': 0.2604375994726943}"
      ]
     },
     "execution_count": 276,
     "metadata": {},
     "output_type": "execute_result"
    }
   ],
   "source": [
    "ref_dict"
   ]
  },
  {
   "cell_type": "code",
   "execution_count": 264,
   "metadata": {},
   "outputs": [],
   "source": [
    "sale_num = soup.find(id='sold-quantity').text\n",
    "sale_revenue = soup.find(id = 'sold-revenue').text.strip('$')\n",
    "poll_num = soup.find(class_='vote-count').text"
   ]
  },
  {
   "cell_type": "code",
   "execution_count": 269,
   "metadata": {},
   "outputs": [],
   "source": [
    "poll_num = soup.find(class_='vote-count').text.split()[0]"
   ]
  },
  {
   "cell_type": "code",
   "execution_count": 270,
   "metadata": {},
   "outputs": [
    {
     "name": "stdout",
     "output_type": "stream",
     "text": [
      "921 49109 853\n"
     ]
    }
   ],
   "source": [
    "print (sale_num, sale_revenue,poll_num)"
   ]
  },
  {
   "cell_type": "code",
   "execution_count": null,
   "metadata": {},
   "outputs": [],
   "source": []
  }
 ],
 "metadata": {
  "kernelspec": {
   "display_name": "Python 3",
   "language": "python",
   "name": "python3"
  },
  "language_info": {
   "codemirror_mode": {
    "name": "ipython",
    "version": 3
   },
   "file_extension": ".py",
   "mimetype": "text/x-python",
   "name": "python",
   "nbconvert_exporter": "python",
   "pygments_lexer": "ipython3",
   "version": "3.5.5"
  }
 },
 "nbformat": 4,
 "nbformat_minor": 2
}
