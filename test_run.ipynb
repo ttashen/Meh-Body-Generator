{
 "cells": [
  {
   "cell_type": "code",
   "execution_count": 240,
   "metadata": {},
   "outputs": [],
   "source": [
    "from bs4 import BeautifulSoup\n",
    "import numpy as np\n",
    "import pandas as pd\n",
    "import requests\n",
    "# from pymongo import MongoClient\n",
    "# from pymongo.errors import DuplicateKeyError, CollectionInvalid\n",
    "import datetime as dt\n",
    "import requests\n",
    "import json\n",
    "import string\n",
    "from urllib.parse import urlparse"
   ]
  },
  {
   "cell_type": "code",
   "execution_count": 68,
   "metadata": {},
   "outputs": [],
   "source": [
    "all_deal_link = []\n",
    "for i in range(1,20):\n",
    "    all_deal_link.append('https://meh.com/forum/topics.json?page={0}&category=deals&sort=date-created'.format(i))"
   ]
  },
  {
   "cell_type": "code",
   "execution_count": 69,
   "metadata": {},
   "outputs": [],
   "source": [
    "double_url = []\n",
    "for link in all_deal_link:\n",
    "    response = requests.get(link)\n",
    "    raw_data = json.loads(response.text)\n",
    "    for x in raw_data:\n",
    "        double_url.append(x['text']['raw'])"
   ]
  },
  {
   "cell_type": "code",
   "execution_count": 95,
   "metadata": {},
   "outputs": [],
   "source": [
    "table = str.maketrans(dict.fromkeys(\"()\"))\n",
    "url = []\n",
    "for s in enumerate(double_url):\n",
    "    if ']' in s:\n",
    "        url.append(s.split(']')[1].translate(table))\n",
    "    else:\n",
    "        url.append(s)"
   ]
  },
  {
   "cell_type": "code",
   "execution_count": 344,
   "metadata": {},
   "outputs": [
    {
     "data": {
      "text/plain": [
       "'https://meh.com/deals/kalorik-4-quart-deep-fryer'"
      ]
     },
     "execution_count": 344,
     "metadata": {},
     "output_type": "execute_result"
    }
   ],
   "source": [
    "url[1700]"
   ]
  },
  {
   "cell_type": "code",
   "execution_count": 100,
   "metadata": {},
   "outputs": [],
   "source": [
    "resp = "
   ]
  },
  {
   "cell_type": "code",
   "execution_count": 371,
   "metadata": {},
   "outputs": [],
   "source": [
    "soup = BeautifulSoup(requests.get(url[1]).content,'html.parser')"
   ]
  },
  {
   "cell_type": "code",
   "execution_count": 372,
   "metadata": {},
   "outputs": [],
   "source": [
    "item_features = soup.find(class_='features').find('ul').text.strip()"
   ]
  },
  {
   "cell_type": "code",
   "execution_count": 373,
   "metadata": {},
   "outputs": [
    {
     "data": {
      "text/plain": [
       "'Sous vide means cooking something slowly in a circulating warm water bath for maximum tenderness.\\nSounds French = fancy time!\\nThis one can attach to any pot (fancily).\\nIt uses a fancy digital time and temperature display so you always know what’s up.\\nAlso comes with a recipe book filled with fancy-ass foods to make and a cooking rack that’s gotta be FAF (fancy as fuck).\\nModel: 980136241, such a fancy model number, what with the lack of letters and all.'"
      ]
     },
     "execution_count": 373,
     "metadata": {},
     "output_type": "execute_result"
    }
   ],
   "source": [
    "item_features"
   ]
  },
  {
   "cell_type": "code",
   "execution_count": 277,
   "metadata": {},
   "outputs": [],
   "source": [
    "spec_url = soup.find(class_='specs')['href']\n",
    "spec_resp = requests.get(spec_url)"
   ]
  },
  {
   "cell_type": "code",
   "execution_count": 314,
   "metadata": {},
   "outputs": [
    {
     "data": {
      "text/plain": [
       "'https://meh.com/forum/topics/2-for-tuesday-power-precision-sous-vide-with-bonus-cooking-rack#5be11fd64eec8e190150916b'"
      ]
     },
     "execution_count": 314,
     "metadata": {},
     "output_type": "execute_result"
    }
   ],
   "source": [
    "spec_url"
   ]
  },
  {
   "cell_type": "code",
   "execution_count": 145,
   "metadata": {},
   "outputs": [],
   "source": [
    "# save space to scrape off the item_specs"
   ]
  },
  {
   "cell_type": "code",
   "execution_count": 282,
   "metadata": {},
   "outputs": [],
   "source": [
    "spe_soup = BeautifulSoup(spec_resp.content,'html.parser')"
   ]
  },
  {
   "cell_type": "code",
   "execution_count": 305,
   "metadata": {},
   "outputs": [],
   "source": [
    "item_id = spe_soup.find(class_='h-entry topic unread')['id']"
   ]
  },
  {
   "cell_type": "code",
   "execution_count": 313,
   "metadata": {},
   "outputs": [
    {
     "data": {
      "text/plain": [
       "'5be11fd52689216d62490732'"
      ]
     },
     "execution_count": 313,
     "metadata": {},
     "output_type": "execute_result"
    }
   ],
   "source": [
    "item_id"
   ]
  },
  {
   "cell_type": "code",
   "execution_count": 376,
   "metadata": {},
   "outputs": [],
   "source": [
    "item = spe_soup.find(class_='p-name').text"
   ]
  },
  {
   "cell_type": "code",
   "execution_count": null,
   "metadata": {},
   "outputs": [],
   "source": []
  },
  {
   "cell_type": "code",
   "execution_count": 326,
   "metadata": {},
   "outputs": [],
   "source": [
    "import re"
   ]
  },
  {
   "cell_type": "code",
   "execution_count": 345,
   "metadata": {
    "scrolled": true
   },
   "outputs": [],
   "source": [
    "condition = re.compile(r'Condition')\n",
    "# comparision = re.compile(r'$')\n",
    "specs = spe_soup.find('li', class_='comment')\n",
    "condition = specs.find(text=condition)\n",
    "# comparision = specs.find(text=comparision)\n",
    "# print(comparision)"
   ]
  },
  {
   "cell_type": "code",
   "execution_count": 346,
   "metadata": {},
   "outputs": [
    {
     "data": {
      "text/plain": [
       "'Condition: New'"
      ]
     },
     "execution_count": 346,
     "metadata": {},
     "output_type": "execute_result"
    }
   ],
   "source": [
    "condition"
   ]
  },
  {
   "cell_type": "code",
   "execution_count": 148,
   "metadata": {},
   "outputs": [],
   "source": [
    "story = soup.find(class_='story').text.strip()"
   ]
  },
  {
   "cell_type": "code",
   "execution_count": 149,
   "metadata": {},
   "outputs": [
    {
     "data": {
      "text/plain": [
       "\"Everyone's A Winner\\nThey say variety is the spice of life, but switching up the spices themselves doesn’t make something entirely new. What’s better: trying an entirely new method of cooking. Take sous vide cooking, for example. Using a slow, rotating hot (but not boiling) water bath to cook your food (which itself is sealed inside a plastic bag) will allow for levels of tenderness heretofore unexperienced.\\nBut as with all things culinary, you should know what you’re getting yourself into. So, instead of spending two-grand on some state-of-the-art sous vide oven that you may or may not enjoy using, try one of these. It will work with any pot and is small enough to be stored easily, while also giving you a taste of what sous vide cooking has to offer.\\n…is what you can say to whoever you give the second one of of your two Power Precision Sous Vide Cookers to. The real truth is: by giving away one of these to a friend or family member you’re actually giving yourself a gift.\\nSous vide cooking is fun. It’s weird. It’s a lot different than most basic cooking methods. And because of that, there are tricks you’re bound to pick up along the way, little ways to improve your food’s flavor, or methods that maybe make it just that much easier.\\nStill, you’re bound to have some blind spots. Cooking is like having a problem to solve, the problem of how to get all these ingredients into a cohesive “meal.” As such, everyone’s going to come at it from a different angle. And knowing how another person approaches something might help you figure out the best way for you to do things. Thus, by giving your second Power Precision Sous Vide Cooker away to someone you know, you’re basically getting an assistant chef. Or maybe an IRL Youtube tutorial without the terrible five minute intro.\\nThen again, if you’re giving someone the gift of a sous vide cooker to receive the gift of advice for what you should use your sous vide cooker, you might involuntarily give them the gift of some advice about how they should use their sous vide cooker… which means, you’re only getting one gift while they get two.\\nDammit! We really wanted you to win this one!\""
      ]
     },
     "execution_count": 149,
     "metadata": {},
     "output_type": "execute_result"
    }
   ],
   "source": [
    "story"
   ]
  },
  {
   "cell_type": "code",
   "execution_count": 178,
   "metadata": {},
   "outputs": [],
   "source": [
    "visits = int(soup.find(class_='primary').find('strong').text.strip())"
   ]
  },
  {
   "cell_type": "code",
   "execution_count": 189,
   "metadata": {},
   "outputs": [],
   "source": [
    "phone_visit = float(soup.find(class_='secondary').find_all('strong')[0].text.strip('%'))/100"
   ]
  },
  {
   "cell_type": "code",
   "execution_count": 190,
   "metadata": {},
   "outputs": [
    {
     "data": {
      "text/plain": [
       "0.41"
      ]
     },
     "execution_count": 190,
     "metadata": {},
     "output_type": "execute_result"
    }
   ],
   "source": [
    "phone_visit"
   ]
  },
  {
   "cell_type": "code",
   "execution_count": 191,
   "metadata": {},
   "outputs": [],
   "source": [
    "tablet_visit = float(soup.find(class_='secondary').find_all('strong')[1].text.strip('%'))/100"
   ]
  },
  {
   "cell_type": "code",
   "execution_count": 192,
   "metadata": {},
   "outputs": [
    {
     "data": {
      "text/plain": [
       "0.05"
      ]
     },
     "execution_count": 192,
     "metadata": {},
     "output_type": "execute_result"
    }
   ],
   "source": [
    "tablet_visit"
   ]
  },
  {
   "cell_type": "code",
   "execution_count": 199,
   "metadata": {},
   "outputs": [],
   "source": [
    "mehs = int(soup.find(id='total-mehs').text)"
   ]
  },
  {
   "cell_type": "code",
   "execution_count": 200,
   "metadata": {},
   "outputs": [
    {
     "data": {
      "text/plain": [
       "4736"
      ]
     },
     "execution_count": 200,
     "metadata": {},
     "output_type": "execute_result"
    }
   ],
   "source": [
    "mehs"
   ]
  },
  {
   "cell_type": "code",
   "execution_count": 211,
   "metadata": {},
   "outputs": [],
   "source": [
    "type_meh = float(soup.find(id='referrals').find(class_='primary').find('strong').text.strip('%'))/100"
   ]
  },
  {
   "cell_type": "code",
   "execution_count": 212,
   "metadata": {},
   "outputs": [
    {
     "data": {
      "text/plain": [
       "0.93"
      ]
     },
     "execution_count": 212,
     "metadata": {},
     "output_type": "execute_result"
    }
   ],
   "source": [
    "type_meh"
   ]
  },
  {
   "cell_type": "code",
   "execution_count": 218,
   "metadata": {},
   "outputs": [],
   "source": [
    "num_referrals = len(referrals)"
   ]
  },
  {
   "cell_type": "code",
   "execution_count": 217,
   "metadata": {},
   "outputs": [],
   "source": [
    "referrals = soup.find_all(class_='referrer')"
   ]
  },
  {
   "cell_type": "code",
   "execution_count": 275,
   "metadata": {},
   "outputs": [],
   "source": [
    "ref_dict = {}\n",
    "for ref in referrals:\n",
    "    link = ref.find(class_='base')['href']\n",
    "    parsed_uri = urlparse(link)\n",
    "    web = parsed_uri.netloc.split('.')[-2]\n",
    "    ref_dict[web] = float(ref['data-percentage'])"
   ]
  },
  {
   "cell_type": "code",
   "execution_count": 276,
   "metadata": {},
   "outputs": [
    {
     "data": {
      "text/plain": [
       "{'clarkdeals': 0.20899313537932274,\n",
       " 'dealnews': 0.17362506631512953,\n",
       " 'facebook': 0.5465974309920744,\n",
       " 'reddit': 0.49033004838994926,\n",
       " 'twitter': 0.2604375994726943}"
      ]
     },
     "execution_count": 276,
     "metadata": {},
     "output_type": "execute_result"
    }
   ],
   "source": [
    "ref_dict"
   ]
  },
  {
   "cell_type": "code",
   "execution_count": 356,
   "metadata": {},
   "outputs": [],
   "source": [
    "sale_num = int(soup.find(id='sold-quantity').text)\n",
    "sale_revenue = int(soup.find(id = 'sold-revenue').text.strip('$'))\n",
    "poll_num = int(soup.find(class_='vote-count').text.split()[0])"
   ]
  },
  {
   "cell_type": "code",
   "execution_count": 281,
   "metadata": {},
   "outputs": [
    {
     "data": {
      "text/plain": [
       "'2018-11-07T05:00:00.000Z'"
      ]
     },
     "execution_count": 281,
     "metadata": {},
     "output_type": "execute_result"
    }
   ],
   "source": [
    "time = soup.find('time')['datetime']\n",
    "time"
   ]
  },
  {
   "cell_type": "code",
   "execution_count": 357,
   "metadata": {},
   "outputs": [
    {
     "name": "stdout",
     "output_type": "stream",
     "text": [
      "2018-11-07T05:00:00.000Z 921 49109 853\n"
     ]
    }
   ],
   "source": [
    "print (time, sale_num, sale_revenue,poll_num)"
   ]
  },
  {
   "cell_type": "code",
   "execution_count": 347,
   "metadata": {},
   "outputs": [],
   "source": [
    "features = {}"
   ]
  },
  {
   "cell_type": "code",
   "execution_count": 348,
   "metadata": {},
   "outputs": [],
   "source": [
    "features['time']=time"
   ]
  },
  {
   "cell_type": "code",
   "execution_count": 377,
   "metadata": {},
   "outputs": [],
   "source": [
    "features['item_id']=item_id\n",
    "features['item_name']=item\n",
    "features['item_features']=item_features\n",
    "features['condition']=condition\n",
    "features['story']=story\n",
    "features['visits']= visits\n",
    "features['phone_visits']=phone_visit\n",
    "features['tablet_visits']=tablet_visit\n",
    "features['mehs']=mehs\n",
    "features['type_meh']=type_meh\n",
    "features['sale_num']=sale_num\n",
    "features['sale_revenue']=sale_revenue\n",
    "features['poll_num']=poll_num"
   ]
  },
  {
   "cell_type": "code",
   "execution_count": 378,
   "metadata": {},
   "outputs": [
    {
     "data": {
      "text/plain": [
       "{'condition': 'Condition: New',\n",
       " 'item_features': 'Sous vide means cooking something slowly in a circulating warm water bath for maximum tenderness.\\nSounds French = fancy time!\\nThis one can attach to any pot (fancily).\\nIt uses a fancy digital time and temperature display so you always know what’s up.\\nAlso comes with a recipe book filled with fancy-ass foods to make and a cooking rack that’s gotta be FAF (fancy as fuck).\\nModel: 980136241, such a fancy model number, what with the lack of letters and all.',\n",
       " 'item_id': '5be11fd52689216d62490732',\n",
       " 'item_name': '2-for-Tuesday: Power Precision Sous Vide with Bonus Cooking Rack',\n",
       " 'mehs': 4736,\n",
       " 'phone_visits': 0.41,\n",
       " 'poll_num': 853,\n",
       " 'sale_num': 921,\n",
       " 'sale_revenue': 49109,\n",
       " 'story': \"Everyone's A Winner\\nThey say variety is the spice of life, but switching up the spices themselves doesn’t make something entirely new. What’s better: trying an entirely new method of cooking. Take sous vide cooking, for example. Using a slow, rotating hot (but not boiling) water bath to cook your food (which itself is sealed inside a plastic bag) will allow for levels of tenderness heretofore unexperienced.\\nBut as with all things culinary, you should know what you’re getting yourself into. So, instead of spending two-grand on some state-of-the-art sous vide oven that you may or may not enjoy using, try one of these. It will work with any pot and is small enough to be stored easily, while also giving you a taste of what sous vide cooking has to offer.\\n…is what you can say to whoever you give the second one of of your two Power Precision Sous Vide Cookers to. The real truth is: by giving away one of these to a friend or family member you’re actually giving yourself a gift.\\nSous vide cooking is fun. It’s weird. It’s a lot different than most basic cooking methods. And because of that, there are tricks you’re bound to pick up along the way, little ways to improve your food’s flavor, or methods that maybe make it just that much easier.\\nStill, you’re bound to have some blind spots. Cooking is like having a problem to solve, the problem of how to get all these ingredients into a cohesive “meal.” As such, everyone’s going to come at it from a different angle. And knowing how another person approaches something might help you figure out the best way for you to do things. Thus, by giving your second Power Precision Sous Vide Cooker away to someone you know, you’re basically getting an assistant chef. Or maybe an IRL Youtube tutorial without the terrible five minute intro.\\nThen again, if you’re giving someone the gift of a sous vide cooker to receive the gift of advice for what you should use your sous vide cooker, you might involuntarily give them the gift of some advice about how they should use their sous vide cooker… which means, you’re only getting one gift while they get two.\\nDammit! We really wanted you to win this one!\",\n",
       " 'tablet_visits': 0.05,\n",
       " 'time': '2018-11-07T05:00:00.000Z',\n",
       " 'type_meh': 0.93,\n",
       " 'visits': 65797}"
      ]
     },
     "execution_count": 378,
     "metadata": {},
     "output_type": "execute_result"
    }
   ],
   "source": [
    "features"
   ]
  },
  {
   "cell_type": "code",
   "execution_count": 379,
   "metadata": {},
   "outputs": [
    {
     "data": {
      "text/html": [
       "<div>\n",
       "<style scoped>\n",
       "    .dataframe tbody tr th:only-of-type {\n",
       "        vertical-align: middle;\n",
       "    }\n",
       "\n",
       "    .dataframe tbody tr th {\n",
       "        vertical-align: top;\n",
       "    }\n",
       "\n",
       "    .dataframe thead th {\n",
       "        text-align: right;\n",
       "    }\n",
       "</style>\n",
       "<table border=\"1\" class=\"dataframe\">\n",
       "  <thead>\n",
       "    <tr style=\"text-align: right;\">\n",
       "      <th></th>\n",
       "      <th>condition</th>\n",
       "      <th>item_features</th>\n",
       "      <th>item_id</th>\n",
       "      <th>item_name</th>\n",
       "      <th>mehs</th>\n",
       "      <th>phone_visits</th>\n",
       "      <th>poll_num</th>\n",
       "      <th>sale_num</th>\n",
       "      <th>sale_revenue</th>\n",
       "      <th>story</th>\n",
       "      <th>tablet_visits</th>\n",
       "      <th>time</th>\n",
       "      <th>type_meh</th>\n",
       "      <th>visits</th>\n",
       "    </tr>\n",
       "  </thead>\n",
       "  <tbody>\n",
       "    <tr>\n",
       "      <th>0</th>\n",
       "      <td>Condition: New</td>\n",
       "      <td>Sous vide means cooking something slowly in a ...</td>\n",
       "      <td>5be11fd52689216d62490732</td>\n",
       "      <td>2-for-Tuesday: Power Precision Sous Vide with ...</td>\n",
       "      <td>4736</td>\n",
       "      <td>0.41</td>\n",
       "      <td>853</td>\n",
       "      <td>921</td>\n",
       "      <td>49109</td>\n",
       "      <td>Everyone's A Winner\\nThey say variety is the s...</td>\n",
       "      <td>0.05</td>\n",
       "      <td>2018-11-07T05:00:00.000Z</td>\n",
       "      <td>0.93</td>\n",
       "      <td>65797</td>\n",
       "    </tr>\n",
       "  </tbody>\n",
       "</table>\n",
       "</div>"
      ],
      "text/plain": [
       "        condition                                      item_features  \\\n",
       "0  Condition: New  Sous vide means cooking something slowly in a ...   \n",
       "\n",
       "                    item_id  \\\n",
       "0  5be11fd52689216d62490732   \n",
       "\n",
       "                                           item_name  mehs  phone_visits  \\\n",
       "0  2-for-Tuesday: Power Precision Sous Vide with ...  4736          0.41   \n",
       "\n",
       "   poll_num  sale_num  sale_revenue  \\\n",
       "0       853       921         49109   \n",
       "\n",
       "                                               story  tablet_visits  \\\n",
       "0  Everyone's A Winner\\nThey say variety is the s...           0.05   \n",
       "\n",
       "                       time  type_meh  visits  \n",
       "0  2018-11-07T05:00:00.000Z      0.93   65797  "
      ]
     },
     "execution_count": 379,
     "metadata": {},
     "output_type": "execute_result"
    }
   ],
   "source": [
    "pd.DataFrame(features,index=[0])"
   ]
  },
  {
   "cell_type": "code",
   "execution_count": 380,
   "metadata": {},
   "outputs": [],
   "source": [
    "features.update(ref_dict)"
   ]
  },
  {
   "cell_type": "code",
   "execution_count": 381,
   "metadata": {},
   "outputs": [
    {
     "data": {
      "text/plain": [
       "{'clarkdeals': 0.20899313537932274,\n",
       " 'condition': 'Condition: New',\n",
       " 'dealnews': 0.17362506631512953,\n",
       " 'facebook': 0.5465974309920744,\n",
       " 'item_features': 'Sous vide means cooking something slowly in a circulating warm water bath for maximum tenderness.\\nSounds French = fancy time!\\nThis one can attach to any pot (fancily).\\nIt uses a fancy digital time and temperature display so you always know what’s up.\\nAlso comes with a recipe book filled with fancy-ass foods to make and a cooking rack that’s gotta be FAF (fancy as fuck).\\nModel: 980136241, such a fancy model number, what with the lack of letters and all.',\n",
       " 'item_id': '5be11fd52689216d62490732',\n",
       " 'item_name': '2-for-Tuesday: Power Precision Sous Vide with Bonus Cooking Rack',\n",
       " 'mehs': 4736,\n",
       " 'phone_visits': 0.41,\n",
       " 'poll_num': 853,\n",
       " 'reddit': 0.49033004838994926,\n",
       " 'sale_num': 921,\n",
       " 'sale_revenue': 49109,\n",
       " 'story': \"Everyone's A Winner\\nThey say variety is the spice of life, but switching up the spices themselves doesn’t make something entirely new. What’s better: trying an entirely new method of cooking. Take sous vide cooking, for example. Using a slow, rotating hot (but not boiling) water bath to cook your food (which itself is sealed inside a plastic bag) will allow for levels of tenderness heretofore unexperienced.\\nBut as with all things culinary, you should know what you’re getting yourself into. So, instead of spending two-grand on some state-of-the-art sous vide oven that you may or may not enjoy using, try one of these. It will work with any pot and is small enough to be stored easily, while also giving you a taste of what sous vide cooking has to offer.\\n…is what you can say to whoever you give the second one of of your two Power Precision Sous Vide Cookers to. The real truth is: by giving away one of these to a friend or family member you’re actually giving yourself a gift.\\nSous vide cooking is fun. It’s weird. It’s a lot different than most basic cooking methods. And because of that, there are tricks you’re bound to pick up along the way, little ways to improve your food’s flavor, or methods that maybe make it just that much easier.\\nStill, you’re bound to have some blind spots. Cooking is like having a problem to solve, the problem of how to get all these ingredients into a cohesive “meal.” As such, everyone’s going to come at it from a different angle. And knowing how another person approaches something might help you figure out the best way for you to do things. Thus, by giving your second Power Precision Sous Vide Cooker away to someone you know, you’re basically getting an assistant chef. Or maybe an IRL Youtube tutorial without the terrible five minute intro.\\nThen again, if you’re giving someone the gift of a sous vide cooker to receive the gift of advice for what you should use your sous vide cooker, you might involuntarily give them the gift of some advice about how they should use their sous vide cooker… which means, you’re only getting one gift while they get two.\\nDammit! We really wanted you to win this one!\",\n",
       " 'tablet_visits': 0.05,\n",
       " 'time': '2018-11-07T05:00:00.000Z',\n",
       " 'twitter': 0.2604375994726943,\n",
       " 'type_meh': 0.93,\n",
       " 'visits': 65797}"
      ]
     },
     "execution_count": 381,
     "metadata": {},
     "output_type": "execute_result"
    }
   ],
   "source": [
    "features"
   ]
  },
  {
   "cell_type": "code",
   "execution_count": null,
   "metadata": {},
   "outputs": [],
   "source": []
  }
 ],
 "metadata": {
  "kernelspec": {
   "display_name": "Python 3",
   "language": "python",
   "name": "python3"
  },
  "language_info": {
   "codemirror_mode": {
    "name": "ipython",
    "version": 3
   },
   "file_extension": ".py",
   "mimetype": "text/x-python",
   "name": "python",
   "nbconvert_exporter": "python",
   "pygments_lexer": "ipython3",
   "version": "3.5.5"
  }
 },
 "nbformat": 4,
 "nbformat_minor": 2
}
